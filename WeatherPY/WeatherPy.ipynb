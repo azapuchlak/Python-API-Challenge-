{
 "cells": [
  {
   "cell_type": "markdown",
   "metadata": {},
   "source": [
    "# Dependencies"
   ]
  },
  {
   "cell_type": "code",
   "execution_count": 16,
   "metadata": {},
   "outputs": [],
   "source": [
    "import requests\n",
    "import json\n",
    "import numpy as np\n",
    "\n",
    "# import API key\n",
    "from config import API_Key\n",
    "\n",
    "#Import citipy to collect latitude and longitudes of cities\n",
    "from citipy import citipy"
   ]
  },
  {
   "cell_type": "code",
   "execution_count": 17,
   "metadata": {},
   "outputs": [],
   "source": [
    "# Set the ranges the latitude and longitudes\n",
    "latitude_range = (-90, 90)\n",
    "longitude_range = (-180, 180)"
   ]
  },
  {
   "cell_type": "markdown",
   "metadata": {},
   "source": [
    "# Create Randomized Cities"
   ]
  },
  {
   "cell_type": "code",
   "execution_count": 18,
   "metadata": {},
   "outputs": [],
   "source": [
    "#Create holding placements for the cordinates and the cities you're making\n",
    "coordinates = []\n",
    "cities = []\n",
    "\n",
    "#Create randomized list of coordinates\n",
    "lat = np.random.uniform(low=90.000, high=90.000, size=1500)\n",
    "long = np.random.uniform(low=90.000, high=90.000, size=1500)\n"
   ]
  },
  {
   "cell_type": "code",
   "execution_count": 28,
   "metadata": {},
   "outputs": [],
   "source": [
    "#Connect the coordinates to the cities they match with\n",
    "for coordinate in coordinates: \n",
    "    city = citypy.city_match(coordinate[0], coordinate [1]).city_name\n",
    "    \n",
    "    #sub in 20% to replace any spaces in the URL so it runs correctly\n",
    "    city = city.replace(\" \", \"20%\")\n",
    "    \n",
    "    #Remove duplicates = if the city is not duplicated add it to the list\n",
    "    if city not in cities:\n",
    "        cities.append(city)"
   ]
  },
  {
   "cell_type": "code",
   "execution_count": null,
   "metadata": {},
   "outputs": [],
   "source": []
  },
  {
   "cell_type": "code",
   "execution_count": null,
   "metadata": {},
   "outputs": [],
   "source": []
  }
 ],
 "metadata": {
  "kernelspec": {
   "display_name": "Python 3",
   "language": "python",
   "name": "python3"
  },
  "language_info": {
   "codemirror_mode": {
    "name": "ipython",
    "version": 3
   },
   "file_extension": ".py",
   "mimetype": "text/x-python",
   "name": "python",
   "nbconvert_exporter": "python",
   "pygments_lexer": "ipython3",
   "version": "3.6.10"
  }
 },
 "nbformat": 4,
 "nbformat_minor": 4
}
